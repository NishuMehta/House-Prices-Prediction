{
 "cells": [
  {
   "cell_type": "markdown",
   "metadata": {},
   "source": [
    "# **Predicting House Prices Using Machine Learning**  \n",
    "\n",
    "\n",
    "### **1. Introduction**  \n",
    "This project aims to predict house prices using three machine learning models — **Linear Regression**, **Random Forest**, and **SVM**. The goal is to identify the best-performing model based on the **RMSE (Root Mean Square Error)** metric.  \n",
    "\n",
    "\n",
    "### **2. Data Description**  \n",
    "The dataset contains key features such as:  \n",
    "- **LotArea:** Lot size in square feet.  \n",
    "- **TotalBsmtSF:** Total basement area.  \n",
    "- **SalePrice:** The target variable representing the house price.  \n",
    "\n",
    "#### **Data Cleaning**\n",
    "- **Missing Values:**  \n",
    "   - `SalePrice` missing values were replaced with the mean.  \n",
    "   - Rows with missing values in other features were dropped.  \n",
    "- **Duplicate Entries:** Removed to ensure data quality.  \n",
    "\n",
    "\n",
    "### **3. Exploratory Data Analysis (EDA)**  \n",
    "EDA helped uncover key insights:  \n",
    "\n",
    "- **SalePrice Distribution:** Right-skewed, indicating the presence of high-value properties.  \n",
    "- **Outliers:** Significant outliers were detected in `LotArea`, `TotalBsmtSF`, and `SalePrice`.  \n",
    "- Outliers were removed using the **IQR (Interquartile Range)** method to improve model performance.  \n",
    "\n",
    "\n",
    "### **4. Data Scaling**  \n",
    "To ensure consistency across features, numerical columns such as `LotArea`, `TotalBsmtSF`, and `SalePrice` were standardized using **StandardScaler**. This step was crucial for improving model performance, especially for **SVM** and **Linear Regression**.\n",
    "\n",
    "\n",
    "### **5. Modeling**  \n",
    "Three models were implemented:  \n",
    "\n",
    "- **Linear Regression** — Simple and interpretable.  \n",
    "- **Random Forest** — Robust and handles outliers well.  \n",
    "- **SVM** — Effective for complex patterns.  \n",
    "\n",
    "\n",
    "### **6. Results**  \n",
    "The models were evaluated using **RMSE**:  \n",
    "\n",
    "- **Linear Regression:** **0.87**  \n",
    "- **Random Forest:** **0.58** (Best Model)  \n",
    "- **SVM:** **0.82**  \n",
    "\n",
    "\n",
    "### **7. Conclusion**  \n",
    "The **Random Forest** model outperformed the others with the lowest RMSE score, making it the most accurate model for predicting house prices in this project.  \n",
    "\n",
    "For further improvement, tuning hyperparameters or adding engineered features could enhance model performance.\n"
   ]
  },
  {
   "cell_type": "markdown",
   "metadata": {},
   "source": []
  }
 ],
 "metadata": {
  "language_info": {
   "name": "python"
  }
 },
 "nbformat": 4,
 "nbformat_minor": 2
}
